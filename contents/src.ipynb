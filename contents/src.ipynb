{
 "cells": [
  {
   "cell_type": "code",
   "execution_count": 1,
   "id": "8a818969",
   "metadata": {},
   "outputs": [],
   "source": [
    "import cv2\n",
    "import numpy as np\n",
    "\n",
    "# Create point matrix get coordinates of mouse click on image\n",
    "point_matrix = np.array([[0,0],[0,0],[0,0],[0,0]],int)\n",
    "dst = np.array([[0,0],[0,450],[600,450],[600,0]],np.float32) \n",
    "    \n",
    "counter = 0\n",
    "def mousePoints(event,x,y,flags,params):\n",
    "    global counter\n",
    "    if event == cv2.EVENT_LBUTTONDOWN and counter < 4:\n",
    "        point_matrix[counter] = x,y\n",
    "        counter = counter + 1\n",
    "        \n",
    "def find_homography(source,destin):\n",
    "\n",
    "    A = []\n",
    "    for src,dst in zip(source,destin):\n",
    "        p1 = np.matrix([src[0],src[1],1])\n",
    "        p2 = np.matrix([dst[0],dst[1],1])              \n",
    "        a1 = [-src[0], -src[1], -1, 0, 0, 0, dst[0] * src[0], dst[0] * src[1], dst[0]]    \n",
    "        a2 = [0, 0, 0, -src[0], -src[1], -1, dst[1] * src[0], dst[1] * src[1], dst[1]]     \n",
    "        A.append(a1)\n",
    "        A.append(a2)\n",
    "      \n",
    "    a , b, v = np.linalg.svd(np.matrix(A))\n",
    "    h = np.reshape(v[8], (3, 3))\n",
    "    return h"
   ]
  },
  {
   "cell_type": "code",
   "execution_count": null,
   "id": "ea0c9f90",
   "metadata": {
    "scrolled": false
   },
   "outputs": [
    {
     "name": "stdout",
     "output_type": "stream",
     "text": [
      "Calculating.\n",
      "This is opencv = [[ 9.36382171e-01  8.21902846e-02 -2.06409158e+02]\n",
      " [-3.50737150e-01  1.16181681e+00 -1.73132626e+02]\n",
      " [-6.67051291e-04 -7.27984932e-05  1.00000000e+00]]\n",
      " ******************\n",
      "This is me = [[-3.47564706e-03 -3.05072469e-04  7.66145925e-01]\n",
      " [ 1.30186006e-03 -4.31241144e-03  6.42630671e-01]\n",
      " [ 2.47594939e-06  2.70212182e-07 -3.71178262e-03]]\n",
      " ******************\n"
     ]
    }
   ],
   "source": [
    "# Read image\n",
    "img = cv2.imread(\"3.jpeg\")\n",
    " \n",
    "while True:\n",
    "    for x in range (0,4):\n",
    "        cv2.circle(img,(point_matrix[x][0],point_matrix[x][1]),3,(0,255,0),cv2.FILLED)\n",
    "\n",
    "    cv2.imshow(\"Original Image \", img)\n",
    "    cv2.setMouseCallback(\"Original Image \", mousePoints)\n",
    "    cv2.waitKey(1)\n",
    "    \n",
    "    if counter == 4:\n",
    "        print(\"Calculating.\")\n",
    "        cv2.waitKey(1)\n",
    "        \n",
    "        mat = cv2.getPerspectiveTransform(point_matrix.astype(np.float32),dst)\n",
    "        print(f\"This is opencv = {mat}\\n ******************\")\n",
    "        \n",
    "        matComputed = find_homography(point_matrix,dst)\n",
    "        print(f\"This is me = {matComputed}\\n ******************\")\n",
    "        \n",
    "        resultimageOPENCV = cv2.warpPerspective(img, np.array(mat),(600,450))\n",
    "        resultimageCOMPUTED = cv2.warpPerspective(img, np.array(matComputed),(600,450))\n",
    "        while True:\n",
    "            cv2.imshow(\"opencv homography\",resultimageOPENCV)\n",
    "            cv2.imshow(\"computed homography\",resultimageCOMPUTED)\n",
    "            cv2.waitKey(1)\n",
    "        break;"
   ]
  },
  {
   "cell_type": "code",
   "execution_count": null,
   "id": "bed15e9c",
   "metadata": {},
   "outputs": [],
   "source": []
  },
  {
   "cell_type": "code",
   "execution_count": null,
   "id": "418416fb",
   "metadata": {},
   "outputs": [],
   "source": []
  }
 ],
 "metadata": {
  "kernelspec": {
   "display_name": "Python 3 (ipykernel)",
   "language": "python",
   "name": "python3"
  },
  "language_info": {
   "codemirror_mode": {
    "name": "ipython",
    "version": 3
   },
   "file_extension": ".py",
   "mimetype": "text/x-python",
   "name": "python",
   "nbconvert_exporter": "python",
   "pygments_lexer": "ipython3",
   "version": "3.9.7"
  }
 },
 "nbformat": 4,
 "nbformat_minor": 5
}
